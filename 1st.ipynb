{
  "nbformat": 4,
  "nbformat_minor": 0,
  "metadata": {
    "colab": {
      "provenance": [],
      "collapsed_sections": []
    },
    "kernelspec": {
      "name": "python3",
      "display_name": "Python 3"
    },
    "language_info": {
      "name": "python"
    }
  },
  "cells": [
    {
      "cell_type": "code",
      "source": [
        "ef findRoman(num):\n",
        "th = [\"\",\"M\",\"MM\",\"MMM\"]\n",
        "cen = [\"\", \"C\", \"CC\", \"CCC\", \"CD\", \"D\",\"DC\", \"DCC\", \"DCCC\", \"CM \"]\n",
        "ten = [\"\", \"X\", \"XX\", \"XXX\", \"XL\", \"L\",\"LX\", \"LXX\", \"LXXX\", \"XC\"]\n",
        "unit = [\"\", \"I\", \"II\", \"III\", \"IV\", \"V\",\"VI\", \"VII\", \"VIII\", \"IX\"]\n",
        "thousand = th[num//1000]\n",
        "hundreds = cen[(num%1000)//100]\n",
        "tens = ten[(num%100)//10]\n",
        "unit_digit = unit[num%10]\n",
        "result = (thousand+hundreds+tens+unit_digit)\n",
        "return result\n",
        "if __name__ == \"__main__\":\n",
        "num = int(input(\"Enter a Integer\\n\"))\n",
        "print(findRoman(num))\n"
      ],
      "metadata": {
        "id": "UtFCQ1-0KOSA"
      },
      "execution_count": null,
      "outputs": []
    },
    {
      "cell_type": "code",
      "execution_count": null,
      "metadata": {
        "id": "WKPviw9kKL2k"
      },
      "outputs": [],
      "source": [
        "tr = input(\"Enter Email...\\n\")\n",
        "fname = str[:str.index('.')];\n",
        "lname = str[str.index('.')+1:str.index('@')];\n",
        "host = str[str.index('@')+1:]\n",
        "print(\"your first name : \"+fname)\n",
        "print(\"your last name : \"+lname)\n",
        "print(\"hostname : \"+ host)\n"
      ]
    },
    {
      "cell_type": "code",
      "source": [
        "ef findBMI(h,w):\n",
        "bmiValue = w/(h**2)\n",
        "if(bmiValue<18.5):\n",
        "print(\"Underweighted\")\n",
        "return\n",
        "if(bmiValue >= 18.5 and bmiValue<24.9):\n",
        "print(\"Normal\")\n",
        "return\n",
        "if(bmiValue >=24.9 and bmiValue<30):\n",
        "print(\"Overweighted\")\n",
        "return\n",
        "print(\"obesity\")\n",
        "if __name__ == \"__main__\":\n",
        "h =float(input(\"Enter your height\\n\"))\n",
        "w =float(input(\"Enter your weight \\n\"))\n",
        "findBMI(h,w)\n"
      ],
      "metadata": {
        "id": "wlGmPioYKUdR"
      },
      "execution_count": null,
      "outputs": []
    }
  ]
}
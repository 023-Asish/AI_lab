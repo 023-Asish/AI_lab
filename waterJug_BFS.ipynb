{
  "nbformat": 4,
  "nbformat_minor": 0,
  "metadata": {
    "colab": {
      "provenance": [],
      "collapsed_sections": []
    },
    "kernelspec": {
      "name": "python3",
      "display_name": "Python 3"
    },
    "language_info": {
      "name": "python"
    }
  },
  "cells": [
    {
      "cell_type": "code",
      "source": [],
      "metadata": {
        "id": "zsjBDMkxI8xQ"
      },
      "execution_count": null,
      "outputs": []
    },
    {
      "cell_type": "code",
      "execution_count": null,
      "metadata": {
        "colab": {
          "base_uri": "https://localhost:8080/"
        },
        "id": "EbbAbVbguSlB",
        "outputId": "a371a046-3786-4edf-a97c-ff5c49ea9860"
      },
      "outputs": [
        {
          "output_type": "stream",
          "name": "stdout",
          "text": [
            "so my solution shows two jars quantity\n",
            "( 0 , 0 )\n",
            "( 0 , 3 )\n",
            "( 5 , 0 )\n",
            "( 5 , 3 )\n",
            "( 3 , 0 )\n",
            "( 2 , 3 )\n",
            "( 2 , 0 )\n"
          ]
        }
      ],
      "source": [
        "# 1. water jug problem \n",
        "from collections import deque\n",
        "def BreathFirstSearch(a, b, target):\n",
        "    m = {}\n",
        "    isSolvable = False\n",
        "    path = []\n",
        "    q = deque()\n",
        "    q.append((0, 0))\n",
        "    while (len(q) > 0):\n",
        "        u = q.popleft()\n",
        "        if ((u[0], u[1]) in m):\n",
        "            continue\n",
        "        if ((u[0] > a or u[1] > b or u[0] < 0 or u[1] < 0)):\n",
        "            continue\n",
        "        path.append([u[0], u[1]])\n",
        "        m[(u[0], u[1])] = 1\n",
        "        if (u[0] == target or u[1] == target):\n",
        "            isSolvable = True\n",
        "            if (u[0] == target):\n",
        "                if (u[1] != 0):\n",
        "                    path.append([u[0], 0])\n",
        "            else:\n",
        "                if (u[0] != 0):\n",
        "                    path.append([0, u[1]])\n",
        "            sz = len(path)\n",
        "            for i in range(sz):\n",
        "                print(\"(\", path[i][0], \",\",path[i][1], \")\")\n",
        "            break\n",
        "        q.append([u[0], b])\n",
        "        q.append([a, u[1]])\n",
        "        for ap in range(max(a, b) + 1):\n",
        "            c = u[0] + ap\n",
        "            d = u[1] - ap\n",
        "            if (c == a or (d == 0 and d >= 0)):\n",
        "                q.append([c, d])\n",
        "            c = u[0] - ap\n",
        "            d = u[1] + ap\n",
        "            if ((c == 0 and c >= 0) or d == b):\n",
        "                q.append([c, d])\n",
        "\n",
        "        q.append([a, 0])\n",
        "        q.append([0, b])\n",
        "    if (not isSolvable):\n",
        "        print(\"No solution\")\n",
        "\n",
        "if __name__ == '__main__':\n",
        "    Jug1, Jug2, target = 5, 3, 2\n",
        "    print(\"so my solution shows two jars quantity\")\n",
        "    BreathFirstSearch(Jug1, Jug2, target)"
      ]
    },
    {
      "cell_type": "code",
      "source": [],
      "metadata": {
        "id": "vKIAxguIwR_B"
      },
      "execution_count": null,
      "outputs": []
    }
  ]
}
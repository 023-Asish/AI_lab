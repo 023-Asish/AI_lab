{
  "nbformat": 4,
  "nbformat_minor": 0,
  "metadata": {
    "colab": {
      "provenance": [],
      "collapsed_sections": []
    },
    "kernelspec": {
      "name": "python3",
      "display_name": "Python 3"
    },
    "language_info": {
      "name": "python"
    }
  },
  "cells": [
    {
      "cell_type": "code",
      "execution_count": 1,
      "metadata": {
        "id": "rY3f3kyW1BO9",
        "colab": {
          "base_uri": "https://localhost:8080/"
        },
        "outputId": "5567777c-5b41-4ade-d922-b0ad22d95e38"
      },
      "outputs": [
        {
          "output_type": "stream",
          "name": "stdout",
          "text": [
            "Travelling Salesperson Problem using simulated annealing\n",
            "\n",
            "\n",
            "-- Simulated annealing solution --\n",
            "1 -> 2 -> 3 -> 4 -> 1\n",
            "\n",
            "Total distance: 79 miles\n",
            "\n"
          ]
        }
      ],
      "source": [
        "#importing necessary libraries\n",
        "import sys\n",
        "import random\n",
        "import copy\n",
        "import numpy as np\n",
        "from numpy.linalg import norm\n",
        "\n",
        "class City:\n",
        "    def __init__(self, index: int, distance: int):\n",
        "        self.index = index\n",
        "        self.distance = distance\n",
        "\n",
        "    def __lt__(self, other):\n",
        "        return self.distance < other.distance\n",
        "\n",
        "\n",
        "class State:\n",
        "    def __init__(self, route: list, distance: int = 0):\n",
        "        self.route = route\n",
        "        self.distance = distance\n",
        "\n",
        "    def __eq__(self, other):\n",
        "        for i in range(len(self.route)):\n",
        "            if self.route[i] != other.route[i]:\n",
        "                return False\n",
        "        return True\n",
        "\n",
        "    def __lt__(self, other):\n",
        "        return self.distance < other.distance\n",
        "\n",
        "    def __repr__(self):\n",
        "        return \"({0},{1})\\n\".format(self.route, self.distance)\n",
        "\n",
        "    def copy(self):\n",
        "        return State(self.route, self.distance)\n",
        "\n",
        "    def deepcopy(self):\n",
        "        return State(copy.deepcopy(self.route), copy.deepcopy(self.distance))\n",
        "\n",
        "    def update_distance(self, matrix, home):\n",
        "        self.distance = 0\n",
        "        from_index = home\n",
        "        for i in range(len(self.route)):\n",
        "            self.distance += matrix[from_index][self.route[i]]\n",
        "            from_index = self.route[i]\n",
        "        self.distance += matrix[from_index][home]\n",
        "\n",
        "\n",
        "def probability(p):\n",
        "\treturn p > random.uniform(0.0, 1.0)\n",
        "\n",
        "def exp_schedule(k=20, lam=0.005, limit = 1000):\n",
        "\treturn lambda t: (k * np.exp(-lam * t) if t < limit else 0)\n",
        "\n",
        "def get_random_solution(matrix: list, home: int, city_indexes: list, size: int):\n",
        "    cities = city_indexes.copy()\n",
        "    cities.pop(home)\n",
        "    population = []\n",
        "    for i in range(size):\n",
        "        random.shuffle(cities)\n",
        "        state = State(cities[:])\n",
        "        state.update_distance(matrix, home)\n",
        "        population.append(state)\n",
        "    return min(population)\n",
        "\n",
        "def mutate(matrix: list, home: int, state: State, mutation_rate: float = 0.01):\n",
        "    mutated_state = state.deepcopy()\n",
        "    for i in range(len(mutated_state.route)):\n",
        "        if random.random() < mutation_rate:\n",
        "            j = int(random.random() * len(state.route))\n",
        "            city_1 = mutated_state.route[i]\n",
        "            city_2 = mutated_state.route[j]\n",
        "            mutated_state.route[i] = city_2\n",
        "            mutated_state.route[j] = city_1\n",
        "    mutated_state.update_distance(matrix, home)\n",
        "    return mutated_state\n",
        "\n",
        "def simulated_annealing(matrix:list, home:int, initial_state:State, mutation_rate:float=0.01, schedule=exp_schedule()):\n",
        "\tbest_state = initial_state\n",
        "\tfor t in range(sys.maxsize):\n",
        "\t\tT = schedule(t)\n",
        "\t\tif T == 0:\n",
        "\t\t\treturn best_state\n",
        "\t\tneighbor = mutate(matrix, home, best_state, mutation_rate)\n",
        "\t\tdelta_e = best_state.distance - neighbor.distance\n",
        "\t\tif delta_e > 0 or probability(np.exp(delta_e / T)):\n",
        "\t\t\treturn neighbor\n",
        "\n",
        "def get_euclidean_distance(p, q):\n",
        "    return round(norm(np.array(p) - np.array(q)))\n",
        "\n",
        "\n",
        "if __name__ == \"__main__\":\n",
        "    all_cities_coordinates = {1: (2,2), 2: (7, 3), 3: (9, 39), 4: (1,10)} #4 cities having the respective coordinates\n",
        "    D = []\n",
        "    for _, goal_coordinates in all_cities_coordinates.items():\n",
        "        distances = []\n",
        "        for _, coordinates in all_cities_coordinates.copy().items():\n",
        "            distances.append(get_euclidean_distance(goal_coordinates, coordinates))\n",
        "        D.append(distances)\n",
        "\n",
        "    current = 0\n",
        "    cities = list(all_cities_coordinates.keys())\n",
        "    city_indexes = [index - 1 for index in cities]\n",
        "\n",
        "    state = get_random_solution(D, current, city_indexes, 100)\n",
        "    print(\"Travelling Salesperson Problem using simulated annealing\\n\")\n",
        "    print()\n",
        "    destination_state = simulated_annealing(D, current, state, 0.1)\n",
        "    print(\"-- Simulated annealing solution --\")\n",
        "    print(cities[current], end=\"\")\n",
        "    for i in range(0, len(destination_state.route)):\n",
        "        print(\" -> \" + str(cities[destination_state.route[i]]), end=\"\")\n",
        "    print(\" -> \" + str(cities[current]), end=\"\")\n",
        "    print(\"\\n\\nTotal distance: {0} miles\".format(destination_state.distance))\n",
        "    print()\n",
        "\n",
        "\n",
        "\n",
        "\n",
        "\n"
      ]
    },
    {
      "cell_type": "code",
      "source": [],
      "metadata": {
        "id": "xPwjqyHw1WtM"
      },
      "execution_count": null,
      "outputs": []
    },
    {
      "cell_type": "code",
      "source": [],
      "metadata": {
        "id": "WKWn71cp1J1a"
      },
      "execution_count": null,
      "outputs": []
    },
    {
      "cell_type": "code",
      "source": [],
      "metadata": {
        "id": "TyknJiZM1joY"
      },
      "execution_count": null,
      "outputs": []
    },
    {
      "cell_type": "code",
      "source": [],
      "metadata": {
        "colab": {
          "base_uri": "https://localhost:8080/"
        },
        "id": "1kA7TU-21qK2",
        "outputId": "36e29c3e-6f58-4e63-ae5a-bee78cfa0b26"
      },
      "execution_count": null,
      "outputs": [
        {
          "output_type": "stream",
          "name": "stdout",
          "text": [
            "Travelling Salesperson Problem using simulated annealing\n",
            "\n",
            "\n",
            "-- Simulated annealing solution --\n",
            "1 -> 4 -> 3 -> 2 -> 1\n",
            "\n",
            "Total distance: 79 miles\n",
            "\n"
          ]
        }
      ]
    },
    {
      "cell_type": "code",
      "source": [],
      "metadata": {
        "id": "50L8sPAPV3Rj"
      },
      "execution_count": null,
      "outputs": []
    }
  ]
}
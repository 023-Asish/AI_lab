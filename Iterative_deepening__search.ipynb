{
  "nbformat": 4,
  "nbformat_minor": 0,
  "metadata": {
    "colab": {
      "provenance": [],
      "collapsed_sections": []
    },
    "kernelspec": {
      "name": "python3",
      "display_name": "Python 3"
    },
    "language_info": {
      "name": "python"
    }
  },
  "cells": [
    {
      "cell_type": "code",
      "execution_count": null,
      "metadata": {
        "colab": {
          "base_uri": "https://localhost:8080/"
        },
        "id": "XIqb8DMEQsLV",
        "outputId": "775c1b51-75d5-4463-ea7f-3acaa944f58b"
      },
      "outputs": [
        {
          "output_type": "stream",
          "name": "stdout",
          "text": [
            "Target is reachable from source within max depth\n"
          ]
        }
      ],
      "source": [
        "from collections import defaultdict\n",
        "class Graph:\n",
        "\tdef __init__(self,vertices):\n",
        "\t\t# No. of vertices\n",
        "\t\tself.V = vertices\n",
        "\t\t# default dictionary to store graph\n",
        "\t\tself.graph = defaultdict(list)\n",
        "\t# function to add an edge to graph\n",
        "\tdef addEdge(self,u,v):\n",
        "\t\tself.graph[u].append(v)\n",
        "\t# A function to perform a Depth-Limited search\n",
        "\t# from given source 'src'\n",
        "\tdef DLS(self,src,target,maxDepth):\n",
        "\t\tif src == target : return True\n",
        "\t\t# If reached the maximum depth, stop recursing.\n",
        "\t\tif maxDepth <= 0 : return False\n",
        "\t\t# Recur for all the vertices adjacent to this vertex\n",
        "\t\tfor i in self.graph[src]:\n",
        "\t\t\t\tif(self.DLS(i,target,maxDepth-1)):\n",
        "\t\t\t\t\treturn True\n",
        "\t\treturn False\n",
        "\t# IDDFS to search if target is reachable from v.\n",
        "\t# It uses recursive DLS()\n",
        "\tdef IDDFS(self,src, target, maxDepth):\n",
        "\t\t# Repeatedly depth-limit search till the\n",
        "\t\t# maximum depth\n",
        "\t\tfor i in range(maxDepth):\n",
        "\t\t\tif (self.DLS(src, target, i)):\n",
        "\t\t\t\treturn True\n",
        "\t\treturn False\n",
        "\n",
        "g = Graph (7)\n",
        "g.addEdge(0, 1)\n",
        "g.addEdge(0, 2)\n",
        "g.addEdge(1, 3)\n",
        "g.addEdge(1, 4)\n",
        "g.addEdge(2, 5)\n",
        "g.addEdge(2, 6)\n",
        "target = 6; maxDepth = 3; src = 0\n",
        "if g.IDDFS(src, target, maxDepth) == True:\n",
        "\tprint (\"Target is reachable from source \" +\n",
        "\t\t\"within max depth\")\n",
        "else :\n",
        "\tprint (\"Target is NOT reachable from source \" +\n",
        "\t\t\"within max depth\")"
      ]
    },
    {
      "cell_type": "code",
      "source": [],
      "metadata": {
        "id": "tufoWbuBQu18"
      },
      "execution_count": null,
      "outputs": []
    }
  ]
}
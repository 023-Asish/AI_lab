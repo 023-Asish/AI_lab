{
  "nbformat": 4,
  "nbformat_minor": 0,
  "metadata": {
    "colab": {
      "provenance": [],
      "collapsed_sections": []
    },
    "kernelspec": {
      "name": "python3",
      "display_name": "Python 3"
    },
    "language_info": {
      "name": "python"
    }
  },
  "cells": [
    {
      "cell_type": "code",
      "execution_count": null,
      "metadata": {
        "colab": {
          "base_uri": "https://localhost:8080/"
        },
        "id": "-QRW65NJH0IO",
        "outputId": "3bc6221a-af38-4a42-f64b-78b1f9e1e75a"
      },
      "outputs": [
        {
          "output_type": "stream",
          "name": "stdout",
          "text": [
            "\n",
            "Possible way to solve for final state :- \n",
            "\n",
            "[ [3, 3, 1] -> [2, 2, 0] -> [3, 2, 1] -> [3, 0, 0] -> [3, 1, 1] -> [1, 1, 0] -> [2, 2, 1] -> [0, 2, 0] -> [0, 3, 1] -> [0, 1, 0] -> [1, 1, 1] -> [0, 0, 0] ]\n",
            "\n",
            "[ [3, 3, 1] -> [2, 2, 0] -> [3, 2, 1] -> [3, 0, 0] -> [3, 1, 1] -> [1, 1, 0] -> [2, 2, 1] -> [0, 2, 0] -> [0, 3, 1] -> [0, 1, 0] -> [0, 2, 1] -> [0, 0, 0] ]\n",
            "\n",
            "[ [3, 3, 1] -> [3, 1, 0] -> [3, 2, 1] -> [3, 0, 0] -> [3, 1, 1] -> [1, 1, 0] -> [2, 2, 1] -> [0, 2, 0] -> [0, 3, 1] -> [0, 1, 0] -> [1, 1, 1] -> [0, 0, 0] ]\n",
            "\n",
            "[ [3, 3, 1] -> [3, 1, 0] -> [3, 2, 1] -> [3, 0, 0] -> [3, 1, 1] -> [1, 1, 0] -> [2, 2, 1] -> [0, 2, 0] -> [0, 3, 1] -> [0, 1, 0] -> [0, 2, 1] -> [0, 0, 0] ]\n",
            "\n"
          ]
        }
      ],
      "source": [
        "start =[3,3,1]\n",
        "end = [0,0,0]\n",
        "\n",
        "def move(state,action):\n",
        "    if state[2] == 1:\n",
        "        return [state[i] - action[i] for i in range(3)]\n",
        "    else:\n",
        "        return [state[i] + action[i] for i in range(3)]\n",
        "\n",
        "def is_legal(state):\n",
        "    if 0 <= state[0] <= 3 and 0 <= state[1] <= 3:\n",
        "        return True\n",
        "    else:\n",
        "        return False\n",
        "\n",
        "def is_bank_safe(bank):\n",
        "    if bank[1] > bank[0] and bank[0] != 0:\n",
        "        return False\n",
        "    else:\n",
        "        return True\n",
        "\n",
        "def is_state_safe(Left_bank_state):\n",
        "    right_bank_state = [start[i]-Left_bank_state[i] for i in range(3)]\n",
        "    if is_bank_safe(Left_bank_state) and is_bank_safe(right_bank_state) :\n",
        "        return True\n",
        "    else:\n",
        "        return False\n",
        "\n",
        "def next_possible_moves(state):\n",
        "    moves_list = [[1,0,1],[0,1,1],[1,1,1],[2,0,1],[0,2,1]]\n",
        "    moves = []\n",
        "    for i in moves_list:\n",
        "        j = move(state,i)\n",
        "        if is_legal(j) and is_state_safe(j):\n",
        "            moves.append(j)\n",
        "    return moves\n",
        "\n",
        "solutions = []\n",
        "def generate_sol(next_state,curPath):\n",
        "    sol_path = curPath.copy()\n",
        "    if next_state == end:\n",
        "        curPath.append(next_state)\n",
        "        solutions.append(sol_path)\n",
        "        return\n",
        "    elif next_state in curPath:\n",
        "        return\n",
        "    else:\n",
        "        sol_path.append(next_state)\n",
        "        for i in next_possible_moves(next_state):\n",
        "            generate_sol(i,sol_path)\n",
        "\n",
        "generate_sol([3,3,1],[])\n",
        "print(\"\\nPossible way to solve for final state :- \",end= \"\\n\\n\")\n",
        "for path in solutions:\n",
        "    print(\"[ \",end = \"\")\n",
        "    for state in path:\n",
        "        print(\"{} -> \".format(state),end = \"\")\n",
        "    print(\"{} ]\".format(end),end = \"\\n\\n\")"
      ]
    },
    {
      "cell_type": "code",
      "source": [],
      "metadata": {
        "id": "a81kTie4H2cQ"
      },
      "execution_count": null,
      "outputs": []
    }
  ]
}